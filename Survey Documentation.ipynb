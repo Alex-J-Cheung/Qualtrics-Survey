{
 "cells": [
  {
   "cell_type": "code",
   "execution_count": 1,
   "id": "12bcede8",
   "metadata": {},
   "outputs": [],
   "source": [
    "# Public Perception of Artificial Intelligence in Society\n",
    "\n",
    "## Introduction Block\n",
    "\n",
    "### The goal of this study is to gauge the public perception on the growth of artificial intelligence in society and to see how various demographics respond differently. \n",
    "### The survey was made on Qualtrics and its data was collected on Prolific with 25 respondants. \n",
    "### This notebook includes 3 csv files which are the raw data results collected from the survey, modified data for R, and the demographic profile of each participant with their Prolific ID.\n"
   ]
  },
  {
   "cell_type": "code",
   "execution_count": 2,
   "id": "50c6f655",
   "metadata": {},
   "outputs": [],
   "source": [
    "## Preprocessing Block\n",
    "\n",
    "### In order for the data to get read into R easier, I modified the Qualtrics raw data file by adding in demographic information from the Prolific file.\n",
    "### I also changed the multiple choice answers into a numbers ranking system for each question. Each question had a different ranking because of the number of choices.\n",
    "### For the awareness section of the survey, there is only 1 correct answer per question, so I labeled the correct answer as \"1\" and incorrect answers as \"0\"."
   ]
  },
  {
   "cell_type": "code",
   "execution_count": 1,
   "id": "324f2ea2",
   "metadata": {},
   "outputs": [
    {
     "name": "stderr",
     "output_type": "stream",
     "text": [
      "Registered S3 methods overwritten by 'ggplot2':\n",
      "  method         from \n",
      "  [.quosures     rlang\n",
      "  c.quosures     rlang\n",
      "  print.quosures rlang\n",
      "Registered S3 method overwritten by 'rvest':\n",
      "  method            from\n",
      "  read_xml.response xml2\n",
      "-- Attaching packages --------------------------------------- tidyverse 1.2.1 --\n",
      "v ggplot2 3.1.1       v purrr   0.3.2  \n",
      "v tibble  2.1.1       v dplyr   0.8.0.1\n",
      "v tidyr   0.8.3       v stringr 1.4.0  \n",
      "v readr   1.3.1       v forcats 0.4.0  \n",
      "-- Conflicts ------------------------------------------ tidyverse_conflicts() --\n",
      "x dplyr::filter() masks stats::filter()\n",
      "x dplyr::lag()    masks stats::lag()\n",
      "\n",
      "Attaching package: 'psych'\n",
      "\n",
      "The following objects are masked from 'package:ggplot2':\n",
      "\n",
      "    %+%, alpha\n",
      "\n",
      "Warning message:\n",
      "\"package 'janitor' was built under R version 3.6.2\"\n",
      "Attaching package: 'janitor'\n",
      "\n",
      "The following objects are masked from 'package:stats':\n",
      "\n",
      "    chisq.test, fisher.test\n",
      "\n",
      "Loading required package: carData\n",
      "\n",
      "Attaching package: 'car'\n",
      "\n",
      "The following object is masked from 'package:psych':\n",
      "\n",
      "    logit\n",
      "\n",
      "The following object is masked from 'package:dplyr':\n",
      "\n",
      "    recode\n",
      "\n",
      "The following object is masked from 'package:purrr':\n",
      "\n",
      "    some\n",
      "\n"
     ]
    }
   ],
   "source": [
    "## Libraries Block\n",
    "\n",
    "library(tidyverse)\n",
    "library(psych)\n",
    "library(dplyr)\n",
    "library(ggplot2)\n",
    "library(janitor)\n",
    "library(car)"
   ]
  },
  {
   "cell_type": "code",
   "execution_count": 3,
   "id": "1b2a47c5",
   "metadata": {},
   "outputs": [
    {
     "name": "stderr",
     "output_type": "stream",
     "text": [
      "Parsed with column specification:\n",
      "cols(\n",
      "  .default = col_double(),\n",
      "  StartDate = col_character(),\n",
      "  EndDate = col_character(),\n",
      "  Status = col_character(),\n",
      "  IPAddress = col_character(),\n",
      "  Finished = col_logical(),\n",
      "  RecordedDate = col_character(),\n",
      "  ResponseId = col_character(),\n",
      "  RecipientLastName = col_logical(),\n",
      "  RecipientFirstName = col_logical(),\n",
      "  RecipientEmail = col_logical(),\n",
      "  ExternalReference = col_logical(),\n",
      "  DistributionChannel = col_character(),\n",
      "  UserLanguage = col_character(),\n",
      "  Q34 = col_character(),\n",
      "  Age = col_character(),\n",
      "  Sex = col_character(),\n",
      "  Race = col_character(),\n",
      "  Q11 = col_character(),\n",
      "  Q9 = col_character(),\n",
      "  Q10 = col_character()\n",
      "  # ... with 3 more columns\n",
      ")\n",
      "See spec(...) for full column specifications.\n"
     ]
    },
    {
     "name": "stdout",
     "output_type": "stream",
     "text": [
      "Observations: 25\n",
      "Variables: 53\n",
      "$ start_date           <chr> \"7/2/2023 15:03\", \"7/2/2023 15:14\", \"7/2/2023 ...\n",
      "$ end_date             <chr> \"7/2/2023 15:06\", \"7/2/2023 15:20\", \"7/2/2023 ...\n",
      "$ status               <chr> \"IP Address\", \"IP Address\", \"IP Address\", \"IP ...\n",
      "$ ip_address           <chr> \"162.198.236.108\", \"174.26.10.164\", \"67.181.18...\n",
      "$ progress             <dbl> 100, 100, 100, 100, 100, 100, 100, 100, 100, 1...\n",
      "$ duration_in_seconds  <dbl> 203, 354, 150, 137, 254, 147, 347, 233, 801, 4...\n",
      "$ finished             <lgl> TRUE, TRUE, TRUE, TRUE, TRUE, TRUE, TRUE, TRUE...\n",
      "$ recorded_date        <chr> \"7/2/2023 15:06\", \"7/2/2023 15:20\", \"7/2/2023 ...\n",
      "$ response_id          <chr> \"R_1g7QFMEnBREtCvz\", \"R_1DzMvc6tb5m0SGz\", \"R_a...\n",
      "$ recipient_last_name  <lgl> NA, NA, NA, NA, NA, NA, NA, NA, NA, NA, NA, NA...\n",
      "$ recipient_first_name <lgl> NA, NA, NA, NA, NA, NA, NA, NA, NA, NA, NA, NA...\n",
      "$ recipient_email      <lgl> NA, NA, NA, NA, NA, NA, NA, NA, NA, NA, NA, NA...\n",
      "$ external_reference   <lgl> NA, NA, NA, NA, NA, NA, NA, NA, NA, NA, NA, NA...\n",
      "$ location_latitude    <dbl> 42.7239, 33.4683, 36.3287, 39.7862, 30.1713, 4...\n",
      "$ location_longitude   <dbl> -83.4232, -112.0549, -119.6474, -84.1622, -93....\n",
      "$ distribution_channel <chr> \"anonymous\", \"anonymous\", \"anonymous\", \"anonym...\n",
      "$ user_language        <chr> \"EN\", \"EN\", \"EN\", \"EN\", \"EN\", \"EN\", \"EN\", \"EN\"...\n",
      "$ q34                  <chr> \"64a18ed19fe33dcb7f86bd18\", \"636198b2cfdd80506...\n",
      "$ age                  <chr> \"62\", \"47\", \"21\", \"26\", \"33\", \"24\", \"37\", \"31\"...\n",
      "$ sex                  <chr> \"Female\", \"Male\", \"Male\", \"Male\", \"Female\", \"F...\n",
      "$ race                 <chr> \"White\", \"White\", \"Mixed\", \"White\", \"Black\", \"...\n",
      "$ q11                  <chr> \"Graduated from a four-year college\", \"Less th...\n",
      "$ q9                   <chr> \"Not employed\", \"Not employed\", \"Employed (ful...\n",
      "$ q10                  <chr> \"More than $100,000\", \"Less than $30,000\", \"$3...\n",
      "$ q12                  <chr> \"Democratic/Lean Democratic\", \"Republican/Lean...\n",
      "$ q28                  <chr> \"Christianity\", \"Not religious\", \"Christianity...\n",
      "$ q13                  <chr> \"Yes\", \"No\", \"No\", \"Yes\", \"No\", \"No\", \"No\", \"N...\n",
      "$ q15                  <dbl> 2, 2, 2, 3, 2, 3, 3, 2, 3, 3, 3, 3, 2, 2, 3, 3...\n",
      "$ q19                  <dbl> 3, 4, 4, 4, 4, 4, 3, 3, 4, 4, 4, 4, 3, 4, 3, 4...\n",
      "$ q18                  <dbl> 3, 2, 5, 1, 2, 1, 2, 1, 0, 2, 1, 4, 1, 1, 2, 5...\n",
      "$ q16                  <dbl> 4, 2, 4, 4, 2, 4, 3, 4, 2, 4, 3, 5, 3, 4, 2, 4...\n",
      "$ q20_1                <dbl> 4, 2, 4, 4, 2, 5, 4, 3, 2, 4, 2, 4, 2, 4, 2, 2...\n",
      "$ q17                  <dbl> 3, 2, 1, 1, 2, 1, 1, 3, 2, 3, 2, 1, 1, 2, 2, 2...\n",
      "$ q29_1                <dbl> 1, NA, NA, NA, NA, NA, NA, 2, NA, 3, NA, NA, N...\n",
      "$ q29_2                <dbl> 5, NA, NA, NA, NA, NA, NA, 4, NA, 7, NA, NA, N...\n",
      "$ q29_3                <dbl> 3, NA, NA, NA, NA, NA, NA, 3, NA, 4, NA, NA, N...\n",
      "$ q29_4                <dbl> 6, NA, NA, NA, NA, NA, NA, 6, NA, 2, NA, NA, N...\n",
      "$ q29_5                <dbl> 2, NA, NA, NA, NA, NA, NA, 5, NA, 1, NA, NA, N...\n",
      "$ q29_6                <dbl> 7, NA, NA, NA, NA, NA, NA, 7, NA, 5, NA, NA, N...\n",
      "$ q29_7                <dbl> 4, NA, NA, NA, NA, NA, NA, 1, NA, 6, NA, NA, N...\n",
      "$ q30_1                <dbl> NA, NA, NA, NA, 1, NA, NA, NA, 1, NA, 4, NA, N...\n",
      "$ q30_2                <dbl> NA, NA, NA, NA, 2, NA, NA, NA, 4, NA, 5, NA, N...\n",
      "$ q30_3                <dbl> NA, NA, NA, NA, 6, NA, NA, NA, 5, NA, 3, NA, N...\n",
      "$ q30_4                <dbl> NA, NA, NA, NA, 3, NA, NA, NA, 3, NA, 2, NA, N...\n",
      "$ q30_5                <dbl> NA, NA, NA, NA, 4, NA, NA, NA, 6, NA, 6, NA, N...\n",
      "$ q30_6                <dbl> NA, NA, NA, NA, 5, NA, NA, NA, 2, NA, 1, NA, N...\n",
      "$ q31                  <dbl> 3, 2, 3, 1, 2, 1, 3, 1, 2, 3, 2, 1, 1, 2, 1, 2...\n",
      "$ q21                  <dbl> 1, 1, 1, 1, 1, 1, 1, 1, 1, 1, 1, 1, 1, 1, 1, 1...\n",
      "$ q22                  <dbl> 1, 1, 1, 1, 1, 1, 1, 1, 1, 1, 1, 1, 1, 1, 1, 1...\n",
      "$ q23                  <dbl> 1, 1, 1, 1, 1, 1, 1, 1, 1, 1, 1, 1, 1, 1, 1, 1...\n",
      "$ q24                  <dbl> 1, 0, 1, 1, 1, 1, 1, 0, 1, 1, 1, 1, 1, 1, 1, 1...\n",
      "$ q25                  <dbl> 1, 1, 1, 1, 1, 1, 1, 1, 1, 1, 1, 1, 1, 1, 1, 1...\n",
      "$ q26                  <dbl> 1, 0, 0, 1, 1, 1, 0, 1, 1, 1, 1, 1, 1, 1, 1, 0...\n"
     ]
    },
    {
     "data": {
      "text/plain": [
       "  start_date          end_date            status           ip_address       \n",
       " Length:25          Length:25          Length:25          Length:25         \n",
       " Class :character   Class :character   Class :character   Class :character  \n",
       " Mode  :character   Mode  :character   Mode  :character   Mode  :character  \n",
       "                                                                            \n",
       "                                                                            \n",
       "                                                                            \n",
       "                                                                            \n",
       "    progress   duration_in_seconds finished       recorded_date     \n",
       " Min.   :100   Min.   :130.0       Mode:logical   Length:25         \n",
       " 1st Qu.:100   1st Qu.:156.0       TRUE:25        Class :character  \n",
       " Median :100   Median :233.0                      Mode  :character  \n",
       " Mean   :100   Mean   :263.3                                        \n",
       " 3rd Qu.:100   3rd Qu.:297.0                                        \n",
       " Max.   :100   Max.   :801.0                                        \n",
       "                                                                    \n",
       " response_id        recipient_last_name recipient_first_name recipient_email\n",
       " Length:25          Mode:logical        Mode:logical         Mode:logical   \n",
       " Class :character   NA's:25             NA's:25              NA's:25        \n",
       " Mode  :character                                                           \n",
       "                                                                            \n",
       "                                                                            \n",
       "                                                                            \n",
       "                                                                            \n",
       " external_reference location_latitude location_longitude distribution_channel\n",
       " Mode:logical       Min.   :28.79     Min.   :-122.03    Length:25           \n",
       " NA's:25            1st Qu.:34.07     1st Qu.:-104.86    Class :character    \n",
       "                    Median :38.83     Median : -84.16    Mode  :character    \n",
       "                    Mean   :37.58     Mean   : -91.24                        \n",
       "                    3rd Qu.:40.71     3rd Qu.: -78.49                        \n",
       "                    Max.   :43.77     Max.   : -73.46                        \n",
       "                                                                             \n",
       " user_language          q34                age                sex           \n",
       " Length:25          Length:25          Length:25          Length:25         \n",
       " Class :character   Class :character   Class :character   Class :character  \n",
       " Mode  :character   Mode  :character   Mode  :character   Mode  :character  \n",
       "                                                                            \n",
       "                                                                            \n",
       "                                                                            \n",
       "                                                                            \n",
       "     race               q11                 q9                q10           \n",
       " Length:25          Length:25          Length:25          Length:25         \n",
       " Class :character   Class :character   Class :character   Class :character  \n",
       " Mode  :character   Mode  :character   Mode  :character   Mode  :character  \n",
       "                                                                            \n",
       "                                                                            \n",
       "                                                                            \n",
       "                                                                            \n",
       "     q12                q28                q13                 q15      \n",
       " Length:25          Length:25          Length:25          Min.   :2.00  \n",
       " Class :character   Class :character   Class :character   1st Qu.:2.00  \n",
       " Mode  :character   Mode  :character   Mode  :character   Median :3.00  \n",
       "                                                          Mean   :2.52  \n",
       "                                                          3rd Qu.:3.00  \n",
       "                                                          Max.   :3.00  \n",
       "                                                                        \n",
       "      q19            q18            q16           q20_1           q17      \n",
       " Min.   :2.00   Min.   :0.00   Min.   :2.00   Min.   :2.00   Min.   :1.00  \n",
       " 1st Qu.:3.00   1st Qu.:1.00   1st Qu.:3.00   1st Qu.:2.00   1st Qu.:1.00  \n",
       " Median :4.00   Median :1.00   Median :4.00   Median :4.00   Median :2.00  \n",
       " Mean   :3.64   Mean   :1.76   Mean   :3.44   Mean   :3.16   Mean   :1.88  \n",
       " 3rd Qu.:4.00   3rd Qu.:2.00   3rd Qu.:4.00   3rd Qu.:4.00   3rd Qu.:2.00  \n",
       " Max.   :4.00   Max.   :5.00   Max.   :5.00   Max.   :5.00   Max.   :3.00  \n",
       "                                                                           \n",
       "     q29_1        q29_2        q29_3         q29_4         q29_5    \n",
       " Min.   :1    Min.   :4    Min.   :2.0   Min.   :2.0   Min.   :1.0  \n",
       " 1st Qu.:1    1st Qu.:5    1st Qu.:3.0   1st Qu.:2.0   1st Qu.:2.0  \n",
       " Median :2    Median :7    Median :3.0   Median :5.0   Median :3.0  \n",
       " Mean   :2    Mean   :6    Mean   :3.2   Mean   :4.2   Mean   :3.4  \n",
       " 3rd Qu.:3    3rd Qu.:7    3rd Qu.:4.0   3rd Qu.:6.0   3rd Qu.:5.0  \n",
       " Max.   :3    Max.   :7    Max.   :4.0   Max.   :6.0   Max.   :6.0  \n",
       " NA's   :20   NA's   :20   NA's   :20    NA's   :20    NA's   :20   \n",
       "     q29_6         q29_7        q30_1        q30_2           q30_3   \n",
       " Min.   :1.0   Min.   :1    Min.   :1    Min.   :2.000   Min.   :2   \n",
       " 1st Qu.:5.0   1st Qu.:4    1st Qu.:1    1st Qu.:3.500   1st Qu.:5   \n",
       " Median :6.0   Median :4    Median :4    Median :4.000   Median :5   \n",
       " Mean   :5.2   Mean   :4    Mean   :3    Mean   :4.182   Mean   :5   \n",
       " 3rd Qu.:7.0   3rd Qu.:5    3rd Qu.:4    3rd Qu.:5.000   3rd Qu.:6   \n",
       " Max.   :7.0   Max.   :6    Max.   :5    Max.   :6.000   Max.   :6   \n",
       " NA's   :20    NA's   :20   NA's   :14   NA's   :14      NA's   :14  \n",
       "     q30_4           q30_5           q30_6            q31            q21      \n",
       " Min.   :1.000   Min.   :1.000   Min.   :1.000   Min.   :1.00   Min.   :0.00  \n",
       " 1st Qu.:1.500   1st Qu.:3.000   1st Qu.:1.500   1st Qu.:1.00   1st Qu.:1.00  \n",
       " Median :2.000   Median :4.000   Median :2.000   Median :2.00   Median :1.00  \n",
       " Mean   :2.091   Mean   :4.182   Mean   :2.545   Mean   :1.96   Mean   :0.96  \n",
       " 3rd Qu.:3.000   3rd Qu.:6.000   3rd Qu.:3.500   3rd Qu.:3.00   3rd Qu.:1.00  \n",
       " Max.   :3.000   Max.   :6.000   Max.   :5.000   Max.   :3.00   Max.   :1.00  \n",
       " NA's   :14      NA's   :14      NA's   :14                                   \n",
       "      q22            q23            q24            q25            q26     \n",
       " Min.   :0.00   Min.   :0.00   Min.   :0.00   Min.   :0.00   Min.   :0.0  \n",
       " 1st Qu.:1.00   1st Qu.:1.00   1st Qu.:1.00   1st Qu.:1.00   1st Qu.:1.0  \n",
       " Median :1.00   Median :1.00   Median :1.00   Median :1.00   Median :1.0  \n",
       " Mean   :0.96   Mean   :0.96   Mean   :0.92   Mean   :0.96   Mean   :0.8  \n",
       " 3rd Qu.:1.00   3rd Qu.:1.00   3rd Qu.:1.00   3rd Qu.:1.00   3rd Qu.:1.0  \n",
       " Max.   :1.00   Max.   :1.00   Max.   :1.00   Max.   :1.00   Max.   :1.0  \n",
       "                                                                          "
      ]
     },
     "metadata": {},
     "output_type": "display_data"
    },
    {
     "data": {
      "text/html": [
       "<table>\n",
       "<thead><tr><th scope=col>start_date</th><th scope=col>end_date</th><th scope=col>status</th><th scope=col>ip_address</th><th scope=col>progress</th><th scope=col>duration_in_seconds</th><th scope=col>finished</th><th scope=col>recorded_date</th><th scope=col>response_id</th><th scope=col>recipient_last_name</th><th scope=col>...</th><th scope=col>q30_4</th><th scope=col>q30_5</th><th scope=col>q30_6</th><th scope=col>q31</th><th scope=col>q21</th><th scope=col>q22</th><th scope=col>q23</th><th scope=col>q24</th><th scope=col>q25</th><th scope=col>q26</th></tr></thead>\n",
       "<tbody>\n",
       "\t<tr><td>7/2/2023 15:03   </td><td>7/2/2023 15:06   </td><td>IP Address       </td><td>162.198.236.108  </td><td>100              </td><td>203              </td><td>TRUE             </td><td>7/2/2023 15:06   </td><td>R_1g7QFMEnBREtCvz</td><td>NA               </td><td>...              </td><td>NA               </td><td>NA               </td><td>NA               </td><td>3                </td><td>1                </td><td>1                </td><td>1                </td><td>1                </td><td>1                </td><td>1                </td></tr>\n",
       "\t<tr><td>7/2/2023 15:14   </td><td>7/2/2023 15:20   </td><td>IP Address       </td><td>174.26.10.164    </td><td>100              </td><td>354              </td><td>TRUE             </td><td>7/2/2023 15:20   </td><td>R_1DzMvc6tb5m0SGz</td><td>NA               </td><td>...              </td><td>NA               </td><td>NA               </td><td>NA               </td><td>2                </td><td>1                </td><td>1                </td><td>1                </td><td>0                </td><td>1                </td><td>0                </td></tr>\n",
       "\t<tr><td>7/2/2023 15:19   </td><td>7/2/2023 15:22   </td><td>IP Address       </td><td>67.181.180.211   </td><td>100              </td><td>150              </td><td>TRUE             </td><td>7/2/2023 15:22   </td><td>R_agTs9RG3pqwNyFj</td><td>NA               </td><td>...              </td><td>NA               </td><td>NA               </td><td>NA               </td><td>3                </td><td>1                </td><td>1                </td><td>1                </td><td>1                </td><td>1                </td><td>0                </td></tr>\n",
       "\t<tr><td>7/2/2023 15:20   </td><td>7/2/2023 15:23   </td><td>IP Address       </td><td>65.29.80.185     </td><td>100              </td><td>137              </td><td>TRUE             </td><td>7/2/2023 15:23   </td><td>R_3OizcfGnqT1zfwY</td><td>NA               </td><td>...              </td><td>NA               </td><td>NA               </td><td>NA               </td><td>1                </td><td>1                </td><td>1                </td><td>1                </td><td>1                </td><td>1                </td><td>1                </td></tr>\n",
       "\t<tr><td>7/2/2023 15:20   </td><td>7/2/2023 15:24   </td><td>IP Address       </td><td>24.112.55.163    </td><td>100              </td><td>254              </td><td>TRUE             </td><td>7/2/2023 15:24   </td><td>R_QmpbWY3BsAXhh4t</td><td>NA               </td><td>...              </td><td> 3               </td><td> 4               </td><td> 5               </td><td>2                </td><td>1                </td><td>1                </td><td>1                </td><td>1                </td><td>1                </td><td>1                </td></tr>\n",
       "\t<tr><td>7/2/2023 15:31   </td><td>7/2/2023 15:33   </td><td>IP Address       </td><td>141.126.148.84   </td><td>100              </td><td>147              </td><td>TRUE             </td><td>7/2/2023 15:33   </td><td>R_tGa7fberHzGNENb</td><td>NA               </td><td>...              </td><td>NA               </td><td>NA               </td><td>NA               </td><td>1                </td><td>1                </td><td>1                </td><td>1                </td><td>1                </td><td>1                </td><td>1                </td></tr>\n",
       "</tbody>\n",
       "</table>\n"
      ],
      "text/latex": [
       "\\begin{tabular}{r|lllllllllllllllllllllllllllllllllllllllllllllllllllll}\n",
       " start\\_date & end\\_date & status & ip\\_address & progress & duration\\_in\\_seconds & finished & recorded\\_date & response\\_id & recipient\\_last\\_name & ... & q30\\_4 & q30\\_5 & q30\\_6 & q31 & q21 & q22 & q23 & q24 & q25 & q26\\\\\n",
       "\\hline\n",
       "\t 7/2/2023 15:03      & 7/2/2023 15:06      & IP Address          & 162.198.236.108     & 100                 & 203                 & TRUE                & 7/2/2023 15:06      & R\\_1g7QFMEnBREtCvz & NA                  & ...                 & NA                  & NA                  & NA                  & 3                   & 1                   & 1                   & 1                   & 1                   & 1                   & 1                  \\\\\n",
       "\t 7/2/2023 15:14      & 7/2/2023 15:20      & IP Address          & 174.26.10.164       & 100                 & 354                 & TRUE                & 7/2/2023 15:20      & R\\_1DzMvc6tb5m0SGz & NA                  & ...                 & NA                  & NA                  & NA                  & 2                   & 1                   & 1                   & 1                   & 0                   & 1                   & 0                  \\\\\n",
       "\t 7/2/2023 15:19      & 7/2/2023 15:22      & IP Address          & 67.181.180.211      & 100                 & 150                 & TRUE                & 7/2/2023 15:22      & R\\_agTs9RG3pqwNyFj & NA                  & ...                 & NA                  & NA                  & NA                  & 3                   & 1                   & 1                   & 1                   & 1                   & 1                   & 0                  \\\\\n",
       "\t 7/2/2023 15:20      & 7/2/2023 15:23      & IP Address          & 65.29.80.185        & 100                 & 137                 & TRUE                & 7/2/2023 15:23      & R\\_3OizcfGnqT1zfwY & NA                  & ...                 & NA                  & NA                  & NA                  & 1                   & 1                   & 1                   & 1                   & 1                   & 1                   & 1                  \\\\\n",
       "\t 7/2/2023 15:20      & 7/2/2023 15:24      & IP Address          & 24.112.55.163       & 100                 & 254                 & TRUE                & 7/2/2023 15:24      & R\\_QmpbWY3BsAXhh4t & NA                  & ...                 &  3                  &  4                  &  5                  & 2                   & 1                   & 1                   & 1                   & 1                   & 1                   & 1                  \\\\\n",
       "\t 7/2/2023 15:31      & 7/2/2023 15:33      & IP Address          & 141.126.148.84      & 100                 & 147                 & TRUE                & 7/2/2023 15:33      & R\\_tGa7fberHzGNENb & NA                  & ...                 & NA                  & NA                  & NA                  & 1                   & 1                   & 1                   & 1                   & 1                   & 1                   & 1                  \\\\\n",
       "\\end{tabular}\n"
      ],
      "text/markdown": [
       "\n",
       "| start_date | end_date | status | ip_address | progress | duration_in_seconds | finished | recorded_date | response_id | recipient_last_name | ... | q30_4 | q30_5 | q30_6 | q31 | q21 | q22 | q23 | q24 | q25 | q26 |\n",
       "|---|---|---|---|---|---|---|---|---|---|---|---|---|---|---|---|---|---|---|---|---|\n",
       "| 7/2/2023 15:03    | 7/2/2023 15:06    | IP Address        | 162.198.236.108   | 100               | 203               | TRUE              | 7/2/2023 15:06    | R_1g7QFMEnBREtCvz | NA                | ...               | NA                | NA                | NA                | 3                 | 1                 | 1                 | 1                 | 1                 | 1                 | 1                 |\n",
       "| 7/2/2023 15:14    | 7/2/2023 15:20    | IP Address        | 174.26.10.164     | 100               | 354               | TRUE              | 7/2/2023 15:20    | R_1DzMvc6tb5m0SGz | NA                | ...               | NA                | NA                | NA                | 2                 | 1                 | 1                 | 1                 | 0                 | 1                 | 0                 |\n",
       "| 7/2/2023 15:19    | 7/2/2023 15:22    | IP Address        | 67.181.180.211    | 100               | 150               | TRUE              | 7/2/2023 15:22    | R_agTs9RG3pqwNyFj | NA                | ...               | NA                | NA                | NA                | 3                 | 1                 | 1                 | 1                 | 1                 | 1                 | 0                 |\n",
       "| 7/2/2023 15:20    | 7/2/2023 15:23    | IP Address        | 65.29.80.185      | 100               | 137               | TRUE              | 7/2/2023 15:23    | R_3OizcfGnqT1zfwY | NA                | ...               | NA                | NA                | NA                | 1                 | 1                 | 1                 | 1                 | 1                 | 1                 | 1                 |\n",
       "| 7/2/2023 15:20    | 7/2/2023 15:24    | IP Address        | 24.112.55.163     | 100               | 254               | TRUE              | 7/2/2023 15:24    | R_QmpbWY3BsAXhh4t | NA                | ...               |  3                |  4                |  5                | 2                 | 1                 | 1                 | 1                 | 1                 | 1                 | 1                 |\n",
       "| 7/2/2023 15:31    | 7/2/2023 15:33    | IP Address        | 141.126.148.84    | 100               | 147               | TRUE              | 7/2/2023 15:33    | R_tGa7fberHzGNENb | NA                | ...               | NA                | NA                | NA                | 1                 | 1                 | 1                 | 1                 | 1                 | 1                 | 1                 |\n",
       "\n"
      ],
      "text/plain": [
       "  start_date     end_date       status     ip_address      progress\n",
       "1 7/2/2023 15:03 7/2/2023 15:06 IP Address 162.198.236.108 100     \n",
       "2 7/2/2023 15:14 7/2/2023 15:20 IP Address 174.26.10.164   100     \n",
       "3 7/2/2023 15:19 7/2/2023 15:22 IP Address 67.181.180.211  100     \n",
       "4 7/2/2023 15:20 7/2/2023 15:23 IP Address 65.29.80.185    100     \n",
       "5 7/2/2023 15:20 7/2/2023 15:24 IP Address 24.112.55.163   100     \n",
       "6 7/2/2023 15:31 7/2/2023 15:33 IP Address 141.126.148.84  100     \n",
       "  duration_in_seconds finished recorded_date  response_id      \n",
       "1 203                 TRUE     7/2/2023 15:06 R_1g7QFMEnBREtCvz\n",
       "2 354                 TRUE     7/2/2023 15:20 R_1DzMvc6tb5m0SGz\n",
       "3 150                 TRUE     7/2/2023 15:22 R_agTs9RG3pqwNyFj\n",
       "4 137                 TRUE     7/2/2023 15:23 R_3OizcfGnqT1zfwY\n",
       "5 254                 TRUE     7/2/2023 15:24 R_QmpbWY3BsAXhh4t\n",
       "6 147                 TRUE     7/2/2023 15:33 R_tGa7fberHzGNENb\n",
       "  recipient_last_name ... q30_4 q30_5 q30_6 q31 q21 q22 q23 q24 q25 q26\n",
       "1 NA                  ... NA    NA    NA    3   1   1   1   1   1   1  \n",
       "2 NA                  ... NA    NA    NA    2   1   1   1   0   1   0  \n",
       "3 NA                  ... NA    NA    NA    3   1   1   1   1   1   0  \n",
       "4 NA                  ... NA    NA    NA    1   1   1   1   1   1   1  \n",
       "5 NA                  ...  3     4     5    2   1   1   1   1   1   1  \n",
       "6 NA                  ... NA    NA    NA    1   1   1   1   1   1   1  "
      ]
     },
     "metadata": {},
     "output_type": "display_data"
    },
    {
     "name": "stderr",
     "output_type": "stream",
     "text": [
      "Warning message in cbind(parts$left, ellip_h, parts$right, deparse.level = 0L):\n",
      "\"number of rows of result is not a multiple of vector length (arg 2)\"Warning message in cbind(parts$left, ellip_h, parts$right, deparse.level = 0L):\n",
      "\"number of rows of result is not a multiple of vector length (arg 2)\"Warning message in cbind(parts$left, ellip_h, parts$right, deparse.level = 0L):\n",
      "\"number of rows of result is not a multiple of vector length (arg 2)\"Warning message in cbind(parts$left, ellip_h, parts$right, deparse.level = 0L):\n",
      "\"number of rows of result is not a multiple of vector length (arg 2)\""
     ]
    },
    {
     "data": {
      "text/html": [
       "<table>\n",
       "<thead><tr><th scope=col>start_date</th><th scope=col>end_date</th><th scope=col>status</th><th scope=col>ip_address</th><th scope=col>progress</th><th scope=col>duration_in_seconds</th><th scope=col>finished</th><th scope=col>recorded_date</th><th scope=col>response_id</th><th scope=col>recipient_last_name</th><th scope=col>...</th><th scope=col>q30_4</th><th scope=col>q30_5</th><th scope=col>q30_6</th><th scope=col>q31</th><th scope=col>q21</th><th scope=col>q22</th><th scope=col>q23</th><th scope=col>q24</th><th scope=col>q25</th><th scope=col>q26</th></tr></thead>\n",
       "<tbody>\n",
       "</tbody>\n",
       "</table>\n"
      ],
      "text/latex": [
       "\\begin{tabular}{r|lllllllllllllllllllllllllllllllllllllllllllllllllllll}\n",
       " start\\_date & end\\_date & status & ip\\_address & progress & duration\\_in\\_seconds & finished & recorded\\_date & response\\_id & recipient\\_last\\_name & ... & q30\\_4 & q30\\_5 & q30\\_6 & q31 & q21 & q22 & q23 & q24 & q25 & q26\\\\\n",
       "\\hline\n",
       "\\end{tabular}\n"
      ],
      "text/markdown": [
       "\n",
       "| start_date | end_date | status | ip_address | progress | duration_in_seconds | finished | recorded_date | response_id | recipient_last_name | ... | q30_4 | q30_5 | q30_6 | q31 | q21 | q22 | q23 | q24 | q25 | q26 |\n",
       "|---|---|---|---|---|---|---|---|---|---|---|---|---|---|---|---|---|---|---|---|---|\n",
       "\n"
      ],
      "text/plain": [
       "     start_date end_date status ip_address progress duration_in_seconds\n",
       "     finished recorded_date response_id recipient_last_name ... q30_4 q30_5\n",
       "     q30_6 q31 q21 q22 q23 q24 q25 q26"
      ]
     },
     "metadata": {},
     "output_type": "display_data"
    }
   ],
   "source": [
    "## Read in data \n",
    "\n",
    "d <- read_csv(\"dataForR.csv\") %>% janitor::clean_names(\"snake\") %>% glimpse() # reading in the data and making all variables lower case for later cleaning.\n",
    "\n",
    "## Basic descriptive statistics\n",
    "summary(d)\n",
    "head(d)\n",
    "\n",
    "## Looking at outliers\n",
    "d %>% filter(age == 'DATA_EXPIRED') # here, we have one outlier respondant from the suvrey, one of the participants' Prolific profile did not have their age."
   ]
  },
  {
   "cell_type": "code",
   "execution_count": 4,
   "id": "7d0da5d3",
   "metadata": {},
   "outputs": [
    {
     "name": "stderr",
     "output_type": "stream",
     "text": [
      "Warning message in eval(expr, envir, enclos):\n",
      "\"NAs introduced by coercion\""
     ]
    },
    {
     "data": {
      "text/html": [
       "'numeric'"
      ],
      "text/latex": [
       "'numeric'"
      ],
      "text/markdown": [
       "'numeric'"
      ],
      "text/plain": [
       "[1] \"numeric\""
      ]
     },
     "metadata": {},
     "output_type": "display_data"
    },
    {
     "data": {
      "text/html": [
       "34.96"
      ],
      "text/latex": [
       "34.96"
      ],
      "text/markdown": [
       "34.96"
      ],
      "text/plain": [
       "[1] 34.96"
      ]
     },
     "metadata": {},
     "output_type": "display_data"
    },
    {
     "data": {
      "text/html": [
       "33"
      ],
      "text/latex": [
       "33"
      ],
      "text/markdown": [
       "33"
      ],
      "text/plain": [
       "[1] 33"
      ]
     },
     "metadata": {},
     "output_type": "display_data"
    },
    {
     "data": {
      "text/html": [
       "<ol class=list-inline>\n",
       "\t<li>62</li>\n",
       "\t<li>47</li>\n",
       "\t<li>21</li>\n",
       "\t<li>26</li>\n",
       "\t<li>33</li>\n",
       "\t<li>24</li>\n",
       "\t<li>37</li>\n",
       "\t<li>31</li>\n",
       "\t<li>35</li>\n",
       "\t<li>21</li>\n",
       "\t<li>36</li>\n",
       "\t<li>28</li>\n",
       "\t<li>33</li>\n",
       "\t<li>39</li>\n",
       "\t<li>29</li>\n",
       "\t<li>54</li>\n",
       "\t<li>25</li>\n",
       "\t<li>37</li>\n",
       "\t<li>28</li>\n",
       "\t<li>21</li>\n",
       "\t<li>41</li>\n",
       "\t<li>30</li>\n",
       "\t<li>33</li>\n",
       "\t<li>51</li>\n",
       "\t<li>52</li>\n",
       "</ol>\n"
      ],
      "text/latex": [
       "\\begin{enumerate*}\n",
       "\\item 62\n",
       "\\item 47\n",
       "\\item 21\n",
       "\\item 26\n",
       "\\item 33\n",
       "\\item 24\n",
       "\\item 37\n",
       "\\item 31\n",
       "\\item 35\n",
       "\\item 21\n",
       "\\item 36\n",
       "\\item 28\n",
       "\\item 33\n",
       "\\item 39\n",
       "\\item 29\n",
       "\\item 54\n",
       "\\item 25\n",
       "\\item 37\n",
       "\\item 28\n",
       "\\item 21\n",
       "\\item 41\n",
       "\\item 30\n",
       "\\item 33\n",
       "\\item 51\n",
       "\\item 52\n",
       "\\end{enumerate*}\n"
      ],
      "text/markdown": [
       "1. 62\n",
       "2. 47\n",
       "3. 21\n",
       "4. 26\n",
       "5. 33\n",
       "6. 24\n",
       "7. 37\n",
       "8. 31\n",
       "9. 35\n",
       "10. 21\n",
       "11. 36\n",
       "12. 28\n",
       "13. 33\n",
       "14. 39\n",
       "15. 29\n",
       "16. 54\n",
       "17. 25\n",
       "18. 37\n",
       "19. 28\n",
       "20. 21\n",
       "21. 41\n",
       "22. 30\n",
       "23. 33\n",
       "24. 51\n",
       "25. 52\n",
       "\n",
       "\n"
      ],
      "text/plain": [
       " [1] 62 47 21 26 33 24 37 31 35 21 36 28 33 39 29 54 25 37 28 21 41 30 33 51 52"
      ]
     },
     "metadata": {},
     "output_type": "display_data"
    }
   ],
   "source": [
    "## Cleaning data\n",
    "\n",
    "## Outlier analysis\n",
    "### To deal with the outlier in the data, I will first replace \"DATA_EXPIRED\" with \"NA\" for easier understanding and impute the age by the median age of the rest of the data before creating visualizations.\n",
    "d$age[d$age == \"DATA_EXPIRED\"] <- NA\n",
    "\n",
    "### I noticed that Excel wrote 41 as \"4.10E+01\" for some reason, so I will replace that value with 41.\n",
    "d$age[d$age == '4.10E+01'] <- 41\n",
    "\n",
    "### Because R read in \"4.10E+01\", age was read in as a character vector, so I will change it to a numeric vector.\n",
    "d$age <- as.numeric(d$age)  \n",
    "\n",
    "class(d$age) # checking if age converted from character to numeric\n",
    "\n",
    "### Imputation of age (median)\n",
    "d$age[is.na(d$age)] <- median(d$age, na.rm = T)\n",
    "\n",
    "mean(d$age) # average respondant age was around 35 years\n",
    "median(d$age) # midpoint of age was 33 years \n",
    "\n",
    "d$age"
   ]
  },
  {
   "cell_type": "code",
   "execution_count": 141,
   "id": "d357cc7c",
   "metadata": {},
   "outputs": [
    {
     "data": {
      "text/plain": [
       "NULL"
      ]
     },
     "metadata": {},
     "output_type": "display_data"
    },
    {
     "data": {
      "image/png": "[encoded data removed]",
      "text/plain": [
       "Plot with title \"Distribution of General Support for AI Development\""
      ]
     },
     "metadata": {},
     "output_type": "display_data"
    }
   ],
   "source": [
    "## General Support for AI Development among Respondants\n",
    "\n",
    "### For this multiple choice question, I did a Likert scale from 1 -5, with 1 being strongly oppose to 5 being strongly support.\n",
    "### I will first convert the question about support for AI from a numeric variable to an ordinal variable since it is on Likert scale from 1-5.\n",
    "d$q16 <- factor(d$q16, levels = unique(d$q16), ordered = TRUE)\n",
    "\n",
    "barplot(table(d$q16), col = \"skyblue\",\n",
    "        main = \"Distribution of General Support for AI Development\",\n",
    "        xlab = \"Support of AI Development\", ylab = \"Frequency\") + theme_bw()\n",
    "\n",
    "### From this graph we can see that most respondants in general somewhat support future AI development. While this is not particularly informational graph, it does tell us the general landscape of participants' feelings towards AI."
   ]
  },
  {
   "cell_type": "code",
   "execution_count": 142,
   "id": "a0f462a6",
   "metadata": {},
   "outputs": [
    {
     "data": {
      "image/png": "[encoded data removed]",
      "text/plain": [
       "plot without title"
      ]
     },
     "metadata": {},
     "output_type": "display_data"
    }
   ],
   "source": [
    "## Relaltionship between Age and AI Support \n",
    "\n",
    "ggplot(d, aes(x = q16, y = age)) +\n",
    "  geom_boxplot(width = 0.3, outlier.shape = NA) +\n",
    "  geom_violin(width = 0.5, trim = FALSE, fill = \"lightblue\", alpha = 0.7) +\n",
    "  labs(title = \"Distribution of Age by Level of AI Support\",\n",
    "       x = \"AI Support Level\", y = \"Age\") +\n",
    "  theme_bw()\n",
    "\n",
    "### From this graph, we see that there is a wide range for support for AI among the age range. The age range for the participants is 21-62.\n",
    "### Interestly, it seems like participants who are 30-40 years of age do not support AI development or at least negative to it."
   ]
  },
  {
   "cell_type": "code",
   "execution_count": 9,
   "id": "3d8f2dbf",
   "metadata": {},
   "outputs": [
    {
     "data": {
      "text/plain": [
       "\n",
       "Call:\n",
       "glm(formula = support ~ q13, family = binomial(link = \"logit\"), \n",
       "    data = d)\n",
       "\n",
       "Deviance Residuals: \n",
       "    Min       1Q   Median       3Q      Max  \n",
       "-1.4823  -1.3153   0.9005   1.0455   1.0455  \n",
       "\n",
       "Coefficients:\n",
       "            Estimate Std. Error z value Pr(>|z|)\n",
       "(Intercept)   0.3185     0.4647   0.685    0.493\n",
       "q13Yes        0.3747     0.9828   0.381    0.703\n",
       "\n",
       "(Dispersion parameter for binomial family taken to be 1)\n",
       "\n",
       "    Null deviance: 33.651  on 24  degrees of freedom\n",
       "Residual deviance: 33.502  on 23  degrees of freedom\n",
       "AIC: 37.502\n",
       "\n",
       "Number of Fisher Scoring iterations: 4\n"
      ]
     },
     "metadata": {},
     "output_type": "display_data"
    },
    {
     "data": {
      "text/html": [
       "<table>\n",
       "<thead><tr><th></th><th scope=col>LR Chisq</th><th scope=col>Df</th><th scope=col>Pr(&gt;Chisq)</th></tr></thead>\n",
       "<tbody>\n",
       "\t<tr><th scope=row>q13</th><td>0.1484928</td><td>1        </td><td>0.6999799</td></tr>\n",
       "</tbody>\n",
       "</table>\n"
      ],
      "text/latex": [
       "\\begin{tabular}{r|lll}\n",
       "  & LR Chisq & Df & Pr(>Chisq)\\\\\n",
       "\\hline\n",
       "\tq13 & 0.1484928 & 1         & 0.6999799\\\\\n",
       "\\end{tabular}\n"
      ],
      "text/markdown": [
       "\n",
       "| <!--/--> | LR Chisq | Df | Pr(>Chisq) |\n",
       "|---|---|---|---|\n",
       "| q13 | 0.1484928 | 1         | 0.6999799 |\n",
       "\n"
      ],
      "text/plain": [
       "    LR Chisq  Df Pr(>Chisq)\n",
       "q13 0.1484928 1  0.6999799 "
      ]
     },
     "metadata": {},
     "output_type": "display_data"
    }
   ],
   "source": [
    "\n",
    "d$support <- dplyr::recode(d$q16, \"5\" = 1, \"4\" = 1, \"3\" = 0, \"2\" = 0)\n",
    "\n",
    "m2 <-  glm(support ~ q13\n",
    "           , family = binomial (link = \"logit\"), data = d)\n",
    "summary(m2)\n",
    "car::Anova(m2, type = 3)"
   ]
  },
  {
   "cell_type": "code",
   "execution_count": 82,
   "id": "673a75a5",
   "metadata": {},
   "outputs": [
    {
     "data": {
      "image/png": "[encoded data removed]",
      "text/plain": [
       "plot without title"
      ]
     },
     "metadata": {},
     "output_type": "display_data"
    }
   ],
   "source": [
    "## Relationship between Race and AI Support\n",
    "\n",
    "ggplot(d, aes(x = q16, fill = race)) +\n",
    "  geom_bar() +\n",
    "  labs(title = \"Relationship between Race and Support for AI\",\n",
    "       x = \"Support for AI\", y = \"Count\") +\n",
    "  scale_fill_manual(values = c(\"skyblue\", \"salmon\", \"lightgreen\", \"orange\")) +\n",
    "  theme(legend.position = \"bottom\") + theme_bw()\n",
    "\n",
    "### The greatest proportion of support among participants is those who are White responding that they mostly somewhat support AI development, with Asian respondants being the second most group..\n",
    "### We can also see a trend among participants in that those of minority race such as Asian, Black, and Mixed tend to be more negative responding with somewhat oppose."
   ]
  },
  {
   "cell_type": "code",
   "execution_count": 144,
   "id": "85512187",
   "metadata": {},
   "outputs": [
    {
     "data": {
      "image/png": "[encoded data removed]",
      "text/plain": [
       "plot without title"
      ]
     },
     "metadata": {},
     "output_type": "display_data"
    }
   ],
   "source": [
    "## Relationship Between Education Level and Support for AI\n",
    "\n",
    "### converting character vector to a leveled factor\n",
    "d$q11 <- factor(d$q11, levels = c(\"Less than a high school diploma\", \"High school degree or equivalent (e.g., GED)\", \"Some college (including two-year college)\", \"Graduated from a four-year college\", \"Postgraduate\"), ordered = TRUE)\n",
    "\n",
    "## graphing\n",
    "ggplot(d, aes(x = q11, fill = q16)) +\n",
    "  geom_bar() +\n",
    "  labs(title = \"Relationship between Education Level and Support for AI\",\n",
    "       x = \"Education level\", y = \"Count\") +\n",
    "  scale_fill_manual(values = c(\"skyblue\", \"salmon\", \"lightgreen\", \"orange\", \"pink\")) +\n",
    "  theme(legend.position = \"bottom\") + theme_bw()"
   ]
  },
  {
   "cell_type": "code",
   "execution_count": 5,
   "id": "55c6c9ef",
   "metadata": {},
   "outputs": [
    {
     "data": {
      "image/png": "[encoded data removed]",
      "text/plain": [
       "plot without title"
      ]
     },
     "metadata": {},
     "output_type": "display_data"
    }
   ],
   "source": [
    "## Relationship between Gender and Race and Excitement of AI Development\n",
    "\n",
    "### Replacing numbers with raw data\n",
    "d$q17[d$q17 == \"1\"] <- \"Equally concerned and excited\" \n",
    "\n",
    "d$q17[d$q17 == \"2\"] <- \"More concerned than excited\"\n",
    "\n",
    "d$q17[d$q17 == \"3\"] <- \"More excited than concerned\"\n",
    "\n",
    "### I will leave this as a categorical variable since there are no inherent levels.\n",
    "\n",
    "ggplot(d, aes(x = q17, fill = sex)) +\n",
    "  geom_bar(position = \"fill\") +\n",
    "  facet_wrap(~race) +\n",
    "  labs(title = \"Three-Way Relationship Between Gender, Race, and AI Development Feelings\",\n",
    "       x = \"Feelings about AI Development\", y = \"Proportion\") +\n",
    "  scale_fill_manual(values = c(\"skyblue\", \"salmon\")) +\n",
    "  theme(legend.position = \"bottom\")\n",
    "\n",
    "### what we can see is that all participants that were of minority ethnicity were either equally concerned about AI or were more concerned about AI.\n",
    "### Most female white participants were more excited about AI and for male white participants, they were either concerned and neutral.\n"
   ]
  },
  {
   "cell_type": "code",
   "execution_count": 126,
   "id": "b9642962",
   "metadata": {},
   "outputs": [
    {
     "data": {
      "text/html": [
       "<table>\n",
       "<thead><tr><th scope=col>start_date</th><th scope=col>end_date</th><th scope=col>status</th><th scope=col>ip_address</th><th scope=col>progress</th><th scope=col>duration_in_seconds</th><th scope=col>finished</th><th scope=col>recorded_date</th><th scope=col>response_id</th><th scope=col>recipient_last_name</th><th scope=col>...</th><th scope=col>q30_4</th><th scope=col>q30_5</th><th scope=col>q30_6</th><th scope=col>q31</th><th scope=col>q21</th><th scope=col>q22</th><th scope=col>q23</th><th scope=col>q24</th><th scope=col>q25</th><th scope=col>q26</th></tr></thead>\n",
       "<tbody>\n",
       "\t<tr><td>7/2/2023 15:03   </td><td>7/2/2023 15:06   </td><td>IP Address       </td><td>162.198.236.108  </td><td>100              </td><td>203              </td><td>TRUE             </td><td>7/2/2023 15:06   </td><td>R_1g7QFMEnBREtCvz</td><td>NA               </td><td>...              </td><td>NA               </td><td>NA               </td><td>NA               </td><td>3                </td><td>1                </td><td>1                </td><td>1                </td><td>1                </td><td>1                </td><td>1                </td></tr>\n",
       "\t<tr><td>7/2/2023 15:31   </td><td>7/2/2023 15:35   </td><td>IP Address       </td><td>174.196.130.86   </td><td>100              </td><td>233              </td><td>TRUE             </td><td>7/2/2023 15:35   </td><td>R_1DC05Mf3UdIddIr</td><td>NA               </td><td>...              </td><td>NA               </td><td>NA               </td><td>NA               </td><td>1                </td><td>1                </td><td>1                </td><td>1                </td><td>0                </td><td>1                </td><td>1                </td></tr>\n",
       "\t<tr><td>7/2/2023 15:29   </td><td>7/2/2023 15:37   </td><td>IP Address       </td><td>70.93.39.198     </td><td>100              </td><td>479              </td><td>TRUE             </td><td>7/2/2023 15:37   </td><td>R_2fE7XC7qnWgqkP7</td><td>NA               </td><td>...              </td><td>NA               </td><td>NA               </td><td>NA               </td><td>3                </td><td>1                </td><td>1                </td><td>1                </td><td>1                </td><td>1                </td><td>1                </td></tr>\n",
       "\t<tr><td>7/2/2023 15:41   </td><td>7/2/2023 15:45   </td><td>IP Address       </td><td>166.199.98.43    </td><td>100              </td><td>215              </td><td>TRUE             </td><td>7/2/2023 15:45   </td><td>R_1pS5yWfdWWnrTn6</td><td>NA               </td><td>...              </td><td>NA               </td><td>NA               </td><td>NA               </td><td>1                </td><td>1                </td><td>1                </td><td>0                </td><td>1                </td><td>1                </td><td>1                </td></tr>\n",
       "\t<tr><td>7/2/2023 15:46   </td><td>7/2/2023 15:53   </td><td>IP Address       </td><td>174.198.7.174    </td><td>100              </td><td>386              </td><td>TRUE             </td><td>7/2/2023 15:53   </td><td>R_22EA3GQK56y5Yuf</td><td>NA               </td><td>...              </td><td>NA               </td><td>NA               </td><td>NA               </td><td>3                </td><td>1                </td><td>1                </td><td>1                </td><td>1                </td><td>1                </td><td>1                </td></tr>\n",
       "</tbody>\n",
       "</table>\n"
      ],
      "text/latex": [
       "\\begin{tabular}{r|lllllllllllllllllllllllllllllllllllllllllllllllllllll}\n",
       " start\\_date & end\\_date & status & ip\\_address & progress & duration\\_in\\_seconds & finished & recorded\\_date & response\\_id & recipient\\_last\\_name & ... & q30\\_4 & q30\\_5 & q30\\_6 & q31 & q21 & q22 & q23 & q24 & q25 & q26\\\\\n",
       "\\hline\n",
       "\t 7/2/2023 15:03      & 7/2/2023 15:06      & IP Address          & 162.198.236.108     & 100                 & 203                 & TRUE                & 7/2/2023 15:06      & R\\_1g7QFMEnBREtCvz & NA                  & ...                 & NA                  & NA                  & NA                  & 3                   & 1                   & 1                   & 1                   & 1                   & 1                   & 1                  \\\\\n",
       "\t 7/2/2023 15:31      & 7/2/2023 15:35      & IP Address          & 174.196.130.86      & 100                 & 233                 & TRUE                & 7/2/2023 15:35      & R\\_1DC05Mf3UdIddIr & NA                  & ...                 & NA                  & NA                  & NA                  & 1                   & 1                   & 1                   & 1                   & 0                   & 1                   & 1                  \\\\\n",
       "\t 7/2/2023 15:29      & 7/2/2023 15:37      & IP Address          & 70.93.39.198        & 100                 & 479                 & TRUE                & 7/2/2023 15:37      & R\\_2fE7XC7qnWgqkP7 & NA                  & ...                 & NA                  & NA                  & NA                  & 3                   & 1                   & 1                   & 1                   & 1                   & 1                   & 1                  \\\\\n",
       "\t 7/2/2023 15:41      & 7/2/2023 15:45      & IP Address          & 166.199.98.43       & 100                 & 215                 & TRUE                & 7/2/2023 15:45      & R\\_1pS5yWfdWWnrTn6 & NA                  & ...                 & NA                  & NA                  & NA                  & 1                   & 1                   & 1                   & 0                   & 1                   & 1                   & 1                  \\\\\n",
       "\t 7/2/2023 15:46      & 7/2/2023 15:53      & IP Address          & 174.198.7.174       & 100                 & 386                 & TRUE                & 7/2/2023 15:53      & R\\_22EA3GQK56y5Yuf & NA                  & ...                 & NA                  & NA                  & NA                  & 3                   & 1                   & 1                   & 1                   & 1                   & 1                   & 1                  \\\\\n",
       "\\end{tabular}\n"
      ],
      "text/markdown": [
       "\n",
       "| start_date | end_date | status | ip_address | progress | duration_in_seconds | finished | recorded_date | response_id | recipient_last_name | ... | q30_4 | q30_5 | q30_6 | q31 | q21 | q22 | q23 | q24 | q25 | q26 |\n",
       "|---|---|---|---|---|---|---|---|---|---|---|---|---|---|---|---|---|---|---|---|---|\n",
       "| 7/2/2023 15:03    | 7/2/2023 15:06    | IP Address        | 162.198.236.108   | 100               | 203               | TRUE              | 7/2/2023 15:06    | R_1g7QFMEnBREtCvz | NA                | ...               | NA                | NA                | NA                | 3                 | 1                 | 1                 | 1                 | 1                 | 1                 | 1                 |\n",
       "| 7/2/2023 15:31    | 7/2/2023 15:35    | IP Address        | 174.196.130.86    | 100               | 233               | TRUE              | 7/2/2023 15:35    | R_1DC05Mf3UdIddIr | NA                | ...               | NA                | NA                | NA                | 1                 | 1                 | 1                 | 1                 | 0                 | 1                 | 1                 |\n",
       "| 7/2/2023 15:29    | 7/2/2023 15:37    | IP Address        | 70.93.39.198      | 100               | 479               | TRUE              | 7/2/2023 15:37    | R_2fE7XC7qnWgqkP7 | NA                | ...               | NA                | NA                | NA                | 3                 | 1                 | 1                 | 1                 | 1                 | 1                 | 1                 |\n",
       "| 7/2/2023 15:41    | 7/2/2023 15:45    | IP Address        | 166.199.98.43     | 100               | 215               | TRUE              | 7/2/2023 15:45    | R_1pS5yWfdWWnrTn6 | NA                | ...               | NA                | NA                | NA                | 1                 | 1                 | 1                 | 0                 | 1                 | 1                 | 1                 |\n",
       "| 7/2/2023 15:46    | 7/2/2023 15:53    | IP Address        | 174.198.7.174     | 100               | 386               | TRUE              | 7/2/2023 15:53    | R_22EA3GQK56y5Yuf | NA                | ...               | NA                | NA                | NA                | 3                 | 1                 | 1                 | 1                 | 1                 | 1                 | 1                 |\n",
       "\n"
      ],
      "text/plain": [
       "  start_date     end_date       status     ip_address      progress\n",
       "1 7/2/2023 15:03 7/2/2023 15:06 IP Address 162.198.236.108 100     \n",
       "2 7/2/2023 15:31 7/2/2023 15:35 IP Address 174.196.130.86  100     \n",
       "3 7/2/2023 15:29 7/2/2023 15:37 IP Address 70.93.39.198    100     \n",
       "4 7/2/2023 15:41 7/2/2023 15:45 IP Address 166.199.98.43   100     \n",
       "5 7/2/2023 15:46 7/2/2023 15:53 IP Address 174.198.7.174   100     \n",
       "  duration_in_seconds finished recorded_date  response_id      \n",
       "1 203                 TRUE     7/2/2023 15:06 R_1g7QFMEnBREtCvz\n",
       "2 233                 TRUE     7/2/2023 15:35 R_1DC05Mf3UdIddIr\n",
       "3 479                 TRUE     7/2/2023 15:37 R_2fE7XC7qnWgqkP7\n",
       "4 215                 TRUE     7/2/2023 15:45 R_1pS5yWfdWWnrTn6\n",
       "5 386                 TRUE     7/2/2023 15:53 R_22EA3GQK56y5Yuf\n",
       "  recipient_last_name ... q30_4 q30_5 q30_6 q31 q21 q22 q23 q24 q25 q26\n",
       "1 NA                  ... NA    NA    NA    3   1   1   1   1   1   1  \n",
       "2 NA                  ... NA    NA    NA    1   1   1   1   0   1   1  \n",
       "3 NA                  ... NA    NA    NA    3   1   1   1   1   1   1  \n",
       "4 NA                  ... NA    NA    NA    1   1   1   0   1   1   1  \n",
       "5 NA                  ... NA    NA    NA    3   1   1   1   1   1   1  "
      ]
     },
     "metadata": {},
     "output_type": "display_data"
    },
    {
     "data": {
      "text/plain": [
       "NULL"
      ]
     },
     "metadata": {},
     "output_type": "display_data"
    },
    {
     "data": {
      "image/png": "[encoded data removed]",
      "text/plain": [
       "Plot with title \"Highest Reason for being Excited About AI\""
      ]
     },
     "metadata": {},
     "output_type": "display_data"
    },
    {
     "data": {
      "text/plain": [
       "NULL"
      ]
     },
     "metadata": {},
     "output_type": "display_data"
    },
    {
     "data": {
      "image/png": "[encoded data removed]",
      "text/plain": [
       "Plot with title \"2nd Highest Reason for being Excited About AI\""
      ]
     },
     "metadata": {},
     "output_type": "display_data"
    },
    {
     "data": {
      "text/plain": [
       "NULL"
      ]
     },
     "metadata": {},
     "output_type": "display_data"
    },
    {
     "data": {
      "image/png": "[encoded data removed]",
      "text/plain": [
       "Plot with title \" 3rd Highest Reason for being Excited About AI\""
      ]
     },
     "metadata": {},
     "output_type": "display_data"
    }
   ],
   "source": [
    "## Participants reasons for being more excited about AI\n",
    "\n",
    "### creating a new dataset for participants who are more excited about AI\n",
    "\n",
    "selected_rows <- c(1, 8, 10, 20, 25)\n",
    "\n",
    "d_excited <- d[selected_rows, ]\n",
    "\n",
    "d_excited \n",
    "\n",
    "### Graphing Frequency of Top 3 Participant Responses\n",
    "\n",
    "### Highest ranking reason\n",
    "barplot(table(d_excited$q29_1), col = \"green\",\n",
    "        main = \"Highest Reason for being Excited About AI\",\n",
    "        xlab = \"Reasons\", ylab = \"Frequency\") + theme_bw()\n",
    "\n",
    "### We can see that the top reason for participant's excitment about AI is \"Saves time and is more efficient\".\n",
    "\n",
    "### 2nd ranking reason\n",
    "barplot(table(d_excited$q29_2), col = \"green\",\n",
    "        main = \"2nd Highest Reason for being Excited About AI\",\n",
    "        xlab = \"Reasons\", ylab = \"Frequency\") + theme_bw()\n",
    "\n",
    "### 3rd ranking reason\n",
    "barplot(table(d_excited$q29_3), col = \"green\",\n",
    "        main = \" 3rd Highest Reason for being Excited About AI\",\n",
    "        xlab = \"Reasons\", ylab = \"Frequency\") + theme_bw()\n"
   ]
  },
  {
   "cell_type": "code",
   "execution_count": 128,
   "id": "82e07a24",
   "metadata": {},
   "outputs": [
    {
     "data": {
      "text/html": [
       "<table>\n",
       "<thead><tr><th scope=col>start_date</th><th scope=col>end_date</th><th scope=col>status</th><th scope=col>ip_address</th><th scope=col>progress</th><th scope=col>duration_in_seconds</th><th scope=col>finished</th><th scope=col>recorded_date</th><th scope=col>response_id</th><th scope=col>recipient_last_name</th><th scope=col>...</th><th scope=col>q30_4</th><th scope=col>q30_5</th><th scope=col>q30_6</th><th scope=col>q31</th><th scope=col>q21</th><th scope=col>q22</th><th scope=col>q23</th><th scope=col>q24</th><th scope=col>q25</th><th scope=col>q26</th></tr></thead>\n",
       "<tbody>\n",
       "\t<tr><td>7/2/2023 15:20   </td><td>7/2/2023 15:24   </td><td>IP Address       </td><td>24.112.55.163    </td><td>100              </td><td>254              </td><td>TRUE             </td><td>7/2/2023 15:24   </td><td>R_QmpbWY3BsAXhh4t</td><td>NA               </td><td>...              </td><td>3                </td><td>4                </td><td>5                </td><td>2                </td><td>1                </td><td>1                </td><td>1                </td><td>1                </td><td>1                </td><td>1                </td></tr>\n",
       "\t<tr><td>7/2/2023 15:22   </td><td>7/2/2023 15:35   </td><td>IP Address       </td><td>104.229.81.227   </td><td>100              </td><td>801              </td><td>TRUE             </td><td>7/2/2023 15:35   </td><td>R_1P5GVAE2iVh8KdO</td><td>NA               </td><td>...              </td><td>3                </td><td>6                </td><td>2                </td><td>2                </td><td>1                </td><td>1                </td><td>1                </td><td>1                </td><td>1                </td><td>1                </td></tr>\n",
       "\t<tr><td>7/2/2023 15:33   </td><td>7/2/2023 15:37   </td><td>IP Address       </td><td>73.171.63.183    </td><td>100              </td><td>196              </td><td>TRUE             </td><td>7/2/2023 15:37   </td><td>R_Y3ygAMbN0scClUd</td><td>NA               </td><td>...              </td><td>2                </td><td>6                </td><td>1                </td><td>2                </td><td>1                </td><td>1                </td><td>1                </td><td>1                </td><td>1                </td><td>1                </td></tr>\n",
       "\t<tr><td>7/2/2023 15:38   </td><td>7/2/2023 15:41   </td><td>IP Address       </td><td>174.171.45.67    </td><td>100              </td><td>156              </td><td>TRUE             </td><td>7/2/2023 15:41   </td><td>R_1HivcHttvGVxDmH</td><td>NA               </td><td>...              </td><td>1                </td><td>6                </td><td>4                </td><td>2                </td><td>1                </td><td>1                </td><td>1                </td><td>1                </td><td>1                </td><td>1                </td></tr>\n",
       "\t<tr><td>7/2/2023 15:38   </td><td>7/2/2023 15:41   </td><td>IP Address       </td><td>108.207.58.153   </td><td>100              </td><td>184              </td><td>TRUE             </td><td>7/2/2023 15:41   </td><td>R_ZC3Xm1tEiKuG1Wx</td><td>NA               </td><td>...              </td><td>2                </td><td>3                </td><td>4                </td><td>1                </td><td>1                </td><td>1                </td><td>1                </td><td>1                </td><td>1                </td><td>1                </td></tr>\n",
       "\t<tr><td>7/2/2023 15:37   </td><td>7/2/2023 15:41   </td><td>IP Address       </td><td>24.250.209.251   </td><td>100              </td><td>251              </td><td>TRUE             </td><td>7/2/2023 15:41   </td><td>R_3qlzu9ZYLKGIvw5</td><td>NA               </td><td>...              </td><td>2                </td><td>3                </td><td>1                </td><td>2                </td><td>1                </td><td>1                </td><td>1                </td><td>1                </td><td>1                </td><td>0                </td></tr>\n",
       "\t<tr><td>7/2/2023 15:37   </td><td>7/2/2023 15:42   </td><td>IP Address       </td><td>67.8.119.121     </td><td>100              </td><td>262              </td><td>TRUE             </td><td>7/2/2023 15:42   </td><td>R_dhCZLL2HHvPvruV</td><td>NA               </td><td>...              </td><td>1                </td><td>2                </td><td>3                </td><td>2                </td><td>1                </td><td>1                </td><td>1                </td><td>1                </td><td>1                </td><td>1                </td></tr>\n",
       "\t<tr><td>7/2/2023 15:38   </td><td>7/2/2023 15:42   </td><td>IP Address       </td><td>108.21.227.180   </td><td>100              </td><td>266              </td><td>TRUE             </td><td>7/2/2023 15:42   </td><td>R_d6e7jJVZrXLBdUl</td><td>NA               </td><td>...              </td><td>3                </td><td>4                </td><td>2                </td><td>2                </td><td>1                </td><td>1                </td><td>1                </td><td>1                </td><td>1                </td><td>1                </td></tr>\n",
       "\t<tr><td>7/2/2023 15:42   </td><td>7/2/2023 15:45   </td><td>IP Address       </td><td>24.128.78.124    </td><td>100              </td><td>201              </td><td>TRUE             </td><td>7/2/2023 15:46   </td><td>R_29sRXDakNUReDnj</td><td>NA               </td><td>...              </td><td>2                </td><td>5                </td><td>1                </td><td>3                </td><td>1                </td><td>1                </td><td>1                </td><td>1                </td><td>1                </td><td>1                </td></tr>\n",
       "\t<tr><td>7/2/2023 15:45   </td><td>7/2/2023 15:47   </td><td>IP Address       </td><td>172.222.144.137  </td><td>100              </td><td>137              </td><td>TRUE             </td><td>7/2/2023 15:48   </td><td>R_1Qa55CeF535njsi</td><td>NA               </td><td>...              </td><td>1                </td><td>6                </td><td>3                </td><td>3                </td><td>0                </td><td>0                </td><td>1                </td><td>1                </td><td>0                </td><td>0                </td></tr>\n",
       "\t<tr><td>7/2/2023 15:45   </td><td>7/2/2023 15:52   </td><td>IP Address       </td><td>76.188.87.226    </td><td>100              </td><td>389              </td><td>TRUE             </td><td>7/2/2023 15:52   </td><td>R_2DTw9O4JU9BAnG6</td><td>NA               </td><td>...              </td><td>3                </td><td>1                </td><td>2                </td><td>2                </td><td>1                </td><td>1                </td><td>1                </td><td>1                </td><td>1                </td><td>1                </td></tr>\n",
       "</tbody>\n",
       "</table>\n"
      ],
      "text/latex": [
       "\\begin{tabular}{r|lllllllllllllllllllllllllllllllllllllllllllllllllllll}\n",
       " start\\_date & end\\_date & status & ip\\_address & progress & duration\\_in\\_seconds & finished & recorded\\_date & response\\_id & recipient\\_last\\_name & ... & q30\\_4 & q30\\_5 & q30\\_6 & q31 & q21 & q22 & q23 & q24 & q25 & q26\\\\\n",
       "\\hline\n",
       "\t 7/2/2023 15:20      & 7/2/2023 15:24      & IP Address          & 24.112.55.163       & 100                 & 254                 & TRUE                & 7/2/2023 15:24      & R\\_QmpbWY3BsAXhh4t & NA                  & ...                 & 3                   & 4                   & 5                   & 2                   & 1                   & 1                   & 1                   & 1                   & 1                   & 1                  \\\\\n",
       "\t 7/2/2023 15:22      & 7/2/2023 15:35      & IP Address          & 104.229.81.227      & 100                 & 801                 & TRUE                & 7/2/2023 15:35      & R\\_1P5GVAE2iVh8KdO & NA                  & ...                 & 3                   & 6                   & 2                   & 2                   & 1                   & 1                   & 1                   & 1                   & 1                   & 1                  \\\\\n",
       "\t 7/2/2023 15:33      & 7/2/2023 15:37      & IP Address          & 73.171.63.183       & 100                 & 196                 & TRUE                & 7/2/2023 15:37      & R\\_Y3ygAMbN0scClUd & NA                  & ...                 & 2                   & 6                   & 1                   & 2                   & 1                   & 1                   & 1                   & 1                   & 1                   & 1                  \\\\\n",
       "\t 7/2/2023 15:38      & 7/2/2023 15:41      & IP Address          & 174.171.45.67       & 100                 & 156                 & TRUE                & 7/2/2023 15:41      & R\\_1HivcHttvGVxDmH & NA                  & ...                 & 1                   & 6                   & 4                   & 2                   & 1                   & 1                   & 1                   & 1                   & 1                   & 1                  \\\\\n",
       "\t 7/2/2023 15:38      & 7/2/2023 15:41      & IP Address          & 108.207.58.153      & 100                 & 184                 & TRUE                & 7/2/2023 15:41      & R\\_ZC3Xm1tEiKuG1Wx & NA                  & ...                 & 2                   & 3                   & 4                   & 1                   & 1                   & 1                   & 1                   & 1                   & 1                   & 1                  \\\\\n",
       "\t 7/2/2023 15:37      & 7/2/2023 15:41      & IP Address          & 24.250.209.251      & 100                 & 251                 & TRUE                & 7/2/2023 15:41      & R\\_3qlzu9ZYLKGIvw5 & NA                  & ...                 & 2                   & 3                   & 1                   & 2                   & 1                   & 1                   & 1                   & 1                   & 1                   & 0                  \\\\\n",
       "\t 7/2/2023 15:37      & 7/2/2023 15:42      & IP Address          & 67.8.119.121        & 100                 & 262                 & TRUE                & 7/2/2023 15:42      & R\\_dhCZLL2HHvPvruV & NA                  & ...                 & 1                   & 2                   & 3                   & 2                   & 1                   & 1                   & 1                   & 1                   & 1                   & 1                  \\\\\n",
       "\t 7/2/2023 15:38      & 7/2/2023 15:42      & IP Address          & 108.21.227.180      & 100                 & 266                 & TRUE                & 7/2/2023 15:42      & R\\_d6e7jJVZrXLBdUl & NA                  & ...                 & 3                   & 4                   & 2                   & 2                   & 1                   & 1                   & 1                   & 1                   & 1                   & 1                  \\\\\n",
       "\t 7/2/2023 15:42      & 7/2/2023 15:45      & IP Address          & 24.128.78.124       & 100                 & 201                 & TRUE                & 7/2/2023 15:46      & R\\_29sRXDakNUReDnj & NA                  & ...                 & 2                   & 5                   & 1                   & 3                   & 1                   & 1                   & 1                   & 1                   & 1                   & 1                  \\\\\n",
       "\t 7/2/2023 15:45      & 7/2/2023 15:47      & IP Address          & 172.222.144.137     & 100                 & 137                 & TRUE                & 7/2/2023 15:48      & R\\_1Qa55CeF535njsi & NA                  & ...                 & 1                   & 6                   & 3                   & 3                   & 0                   & 0                   & 1                   & 1                   & 0                   & 0                  \\\\\n",
       "\t 7/2/2023 15:45      & 7/2/2023 15:52      & IP Address          & 76.188.87.226       & 100                 & 389                 & TRUE                & 7/2/2023 15:52      & R\\_2DTw9O4JU9BAnG6 & NA                  & ...                 & 3                   & 1                   & 2                   & 2                   & 1                   & 1                   & 1                   & 1                   & 1                   & 1                  \\\\\n",
       "\\end{tabular}\n"
      ],
      "text/markdown": [
       "\n",
       "| start_date | end_date | status | ip_address | progress | duration_in_seconds | finished | recorded_date | response_id | recipient_last_name | ... | q30_4 | q30_5 | q30_6 | q31 | q21 | q22 | q23 | q24 | q25 | q26 |\n",
       "|---|---|---|---|---|---|---|---|---|---|---|---|---|---|---|---|---|---|---|---|---|\n",
       "| 7/2/2023 15:20    | 7/2/2023 15:24    | IP Address        | 24.112.55.163     | 100               | 254               | TRUE              | 7/2/2023 15:24    | R_QmpbWY3BsAXhh4t | NA                | ...               | 3                 | 4                 | 5                 | 2                 | 1                 | 1                 | 1                 | 1                 | 1                 | 1                 |\n",
       "| 7/2/2023 15:22    | 7/2/2023 15:35    | IP Address        | 104.229.81.227    | 100               | 801               | TRUE              | 7/2/2023 15:35    | R_1P5GVAE2iVh8KdO | NA                | ...               | 3                 | 6                 | 2                 | 2                 | 1                 | 1                 | 1                 | 1                 | 1                 | 1                 |\n",
       "| 7/2/2023 15:33    | 7/2/2023 15:37    | IP Address        | 73.171.63.183     | 100               | 196               | TRUE              | 7/2/2023 15:37    | R_Y3ygAMbN0scClUd | NA                | ...               | 2                 | 6                 | 1                 | 2                 | 1                 | 1                 | 1                 | 1                 | 1                 | 1                 |\n",
       "| 7/2/2023 15:38    | 7/2/2023 15:41    | IP Address        | 174.171.45.67     | 100               | 156               | TRUE              | 7/2/2023 15:41    | R_1HivcHttvGVxDmH | NA                | ...               | 1                 | 6                 | 4                 | 2                 | 1                 | 1                 | 1                 | 1                 | 1                 | 1                 |\n",
       "| 7/2/2023 15:38    | 7/2/2023 15:41    | IP Address        | 108.207.58.153    | 100               | 184               | TRUE              | 7/2/2023 15:41    | R_ZC3Xm1tEiKuG1Wx | NA                | ...               | 2                 | 3                 | 4                 | 1                 | 1                 | 1                 | 1                 | 1                 | 1                 | 1                 |\n",
       "| 7/2/2023 15:37    | 7/2/2023 15:41    | IP Address        | 24.250.209.251    | 100               | 251               | TRUE              | 7/2/2023 15:41    | R_3qlzu9ZYLKGIvw5 | NA                | ...               | 2                 | 3                 | 1                 | 2                 | 1                 | 1                 | 1                 | 1                 | 1                 | 0                 |\n",
       "| 7/2/2023 15:37    | 7/2/2023 15:42    | IP Address        | 67.8.119.121      | 100               | 262               | TRUE              | 7/2/2023 15:42    | R_dhCZLL2HHvPvruV | NA                | ...               | 1                 | 2                 | 3                 | 2                 | 1                 | 1                 | 1                 | 1                 | 1                 | 1                 |\n",
       "| 7/2/2023 15:38    | 7/2/2023 15:42    | IP Address        | 108.21.227.180    | 100               | 266               | TRUE              | 7/2/2023 15:42    | R_d6e7jJVZrXLBdUl | NA                | ...               | 3                 | 4                 | 2                 | 2                 | 1                 | 1                 | 1                 | 1                 | 1                 | 1                 |\n",
       "| 7/2/2023 15:42    | 7/2/2023 15:45    | IP Address        | 24.128.78.124     | 100               | 201               | TRUE              | 7/2/2023 15:46    | R_29sRXDakNUReDnj | NA                | ...               | 2                 | 5                 | 1                 | 3                 | 1                 | 1                 | 1                 | 1                 | 1                 | 1                 |\n",
       "| 7/2/2023 15:45    | 7/2/2023 15:47    | IP Address        | 172.222.144.137   | 100               | 137               | TRUE              | 7/2/2023 15:48    | R_1Qa55CeF535njsi | NA                | ...               | 1                 | 6                 | 3                 | 3                 | 0                 | 0                 | 1                 | 1                 | 0                 | 0                 |\n",
       "| 7/2/2023 15:45    | 7/2/2023 15:52    | IP Address        | 76.188.87.226     | 100               | 389               | TRUE              | 7/2/2023 15:52    | R_2DTw9O4JU9BAnG6 | NA                | ...               | 3                 | 1                 | 2                 | 2                 | 1                 | 1                 | 1                 | 1                 | 1                 | 1                 |\n",
       "\n"
      ],
      "text/plain": [
       "   start_date     end_date       status     ip_address      progress\n",
       "1  7/2/2023 15:20 7/2/2023 15:24 IP Address 24.112.55.163   100     \n",
       "2  7/2/2023 15:22 7/2/2023 15:35 IP Address 104.229.81.227  100     \n",
       "3  7/2/2023 15:33 7/2/2023 15:37 IP Address 73.171.63.183   100     \n",
       "4  7/2/2023 15:38 7/2/2023 15:41 IP Address 174.171.45.67   100     \n",
       "5  7/2/2023 15:38 7/2/2023 15:41 IP Address 108.207.58.153  100     \n",
       "6  7/2/2023 15:37 7/2/2023 15:41 IP Address 24.250.209.251  100     \n",
       "7  7/2/2023 15:37 7/2/2023 15:42 IP Address 67.8.119.121    100     \n",
       "8  7/2/2023 15:38 7/2/2023 15:42 IP Address 108.21.227.180  100     \n",
       "9  7/2/2023 15:42 7/2/2023 15:45 IP Address 24.128.78.124   100     \n",
       "10 7/2/2023 15:45 7/2/2023 15:47 IP Address 172.222.144.137 100     \n",
       "11 7/2/2023 15:45 7/2/2023 15:52 IP Address 76.188.87.226   100     \n",
       "   duration_in_seconds finished recorded_date  response_id      \n",
       "1  254                 TRUE     7/2/2023 15:24 R_QmpbWY3BsAXhh4t\n",
       "2  801                 TRUE     7/2/2023 15:35 R_1P5GVAE2iVh8KdO\n",
       "3  196                 TRUE     7/2/2023 15:37 R_Y3ygAMbN0scClUd\n",
       "4  156                 TRUE     7/2/2023 15:41 R_1HivcHttvGVxDmH\n",
       "5  184                 TRUE     7/2/2023 15:41 R_ZC3Xm1tEiKuG1Wx\n",
       "6  251                 TRUE     7/2/2023 15:41 R_3qlzu9ZYLKGIvw5\n",
       "7  262                 TRUE     7/2/2023 15:42 R_dhCZLL2HHvPvruV\n",
       "8  266                 TRUE     7/2/2023 15:42 R_d6e7jJVZrXLBdUl\n",
       "9  201                 TRUE     7/2/2023 15:46 R_29sRXDakNUReDnj\n",
       "10 137                 TRUE     7/2/2023 15:48 R_1Qa55CeF535njsi\n",
       "11 389                 TRUE     7/2/2023 15:52 R_2DTw9O4JU9BAnG6\n",
       "   recipient_last_name ... q30_4 q30_5 q30_6 q31 q21 q22 q23 q24 q25 q26\n",
       "1  NA                  ... 3     4     5     2   1   1   1   1   1   1  \n",
       "2  NA                  ... 3     6     2     2   1   1   1   1   1   1  \n",
       "3  NA                  ... 2     6     1     2   1   1   1   1   1   1  \n",
       "4  NA                  ... 1     6     4     2   1   1   1   1   1   1  \n",
       "5  NA                  ... 2     3     4     1   1   1   1   1   1   1  \n",
       "6  NA                  ... 2     3     1     2   1   1   1   1   1   0  \n",
       "7  NA                  ... 1     2     3     2   1   1   1   1   1   1  \n",
       "8  NA                  ... 3     4     2     2   1   1   1   1   1   1  \n",
       "9  NA                  ... 2     5     1     3   1   1   1   1   1   1  \n",
       "10 NA                  ... 1     6     3     3   0   0   1   1   0   0  \n",
       "11 NA                  ... 3     1     2     2   1   1   1   1   1   1  "
      ]
     },
     "metadata": {},
     "output_type": "display_data"
    },
    {
     "data": {
      "text/plain": [
       "NULL"
      ]
     },
     "metadata": {},
     "output_type": "display_data"
    },
    {
     "data": {
      "image/png": "[encoded data removed]",
      "text/plain": [
       "Plot with title \"Highest Reason for being Concerned About AI\""
      ]
     },
     "metadata": {},
     "output_type": "display_data"
    },
    {
     "data": {
      "text/plain": [
       "NULL"
      ]
     },
     "metadata": {},
     "output_type": "display_data"
    },
    {
     "data": {
      "image/png": "[encoded data removed]",
      "text/plain": [
       "Plot with title \"2nd Highest Reason for being Concerned About AI\""
      ]
     },
     "metadata": {},
     "output_type": "display_data"
    },
    {
     "data": {
      "text/plain": [
       "NULL"
      ]
     },
     "metadata": {},
     "output_type": "display_data"
    },
    {
     "data": {
      "image/png": "[encoded data removed]",
      "text/plain": [
       "Plot with title \" 3rd Highest Reason for being Concerned About AI\""
      ]
     },
     "metadata": {},
     "output_type": "display_data"
    }
   ],
   "source": [
    "## Participants rasons for being more concerned about AI\n",
    "\n",
    "### creating a new dataset for participants who are more concerned about AI\n",
    "\n",
    "select_rows <- c(5, 9, 11, 14, 15, 16, 17, 18, 21, 22, 24)\n",
    "\n",
    "d_concerned <- d[select_rows, ]\n",
    "\n",
    "d_concerned\n",
    "\n",
    "### Graphing Frequency of Top 3 Participant Responses\n",
    "\n",
    "### Highest ranking reason\n",
    "barplot(table(d_concerned$q30_1), col = \"green\",\n",
    "        main = \"Highest Reason for being Concerned About AI\",\n",
    "        xlab = \"Reasons\", ylab = \"Frequency\") + theme_bw()\n",
    "\n",
    "### We can see that the top reason for participant's concern about AI is both digital privacy conerns and people misuing AI.\n",
    "\n",
    "### 2nd ranking reason\n",
    "barplot(table(d_concerned$q30_2), col = \"green\",\n",
    "        main = \"2nd Highest Reason for being Concerned About AI\",\n",
    "        xlab = \"Reasons\", ylab = \"Frequency\") + theme_bw()\n",
    "\n",
    "### 3rd ranking reason\n",
    "barplot(table(d_concerned$q30_3), col = \"green\",\n",
    "        main = \" 3rd Highest Reason for being Concerned About AI\",\n",
    "        xlab = \"Reasons\", ylab = \"Frequency\") + theme_bw()\n"
   ]
  }
 ],
 "metadata": {
  "kernelspec": {
   "display_name": "R",
   "language": "R",
   "name": "ir"
  },
  "language_info": {
   "codemirror_mode": "r",
   "file_extension": ".r",
   "mimetype": "text/x-r-source",
   "name": "R",
   "pygments_lexer": "r",
   "version": "3.6.1"
  }
 },
 "nbformat": 4,
 "nbformat_minor": 5
}
